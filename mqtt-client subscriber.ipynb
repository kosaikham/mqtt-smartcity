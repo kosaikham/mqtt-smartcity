{
 "cells": [
  {
   "cell_type": "markdown",
   "metadata": {},
   "source": [
    "## MQTT Subscriber\n",
    "\n",
    "In this tutorial, I would like to tell how to implement a MQTT subscriber, which subscribes for a certain type of data from MQTT broker. \n",
    "\n",
    "I would like to create a hypothetical smart city, which clients publish below data:\n",
    "\n",
    "```\n",
    "- temperature\n",
    "    - celcius\n",
    "    - fahrenheit\n",
    "- air pollution\n",
    "    - CO level\n",
    "    - SO2 level\n",
    "- traffic speed\n",
    "    - km/h\n",
    "```\n",
    "\n",
    "Subscribers only work on determined data types, a single purpose clients to collect data and do what ever they want. Like, show on the map, analyze etc.\n",
    "\n",
    "Our topic structure is as shown:\n",
    "\n",
    "```\n",
    "<system_name>/<city_id>/<street_id>/<sensor_data>/<sub_data>\n",
    "```\n",
    "\n",
    "We want our subscriber to collect certain data for its own purpose. Since our topic structure is known by all systems, clients can be configured to parse data and collect certain information.\n",
    "\n",
    "Using the topic info, a subscriber can identify id of city, street and sensor data types. \n",
    "\n",
    "This information can also be embedded into payload, that's the choice of design. \n",
    "\n"
   ]
  },
  {
   "cell_type": "code",
   "execution_count": 1,
   "metadata": {},
   "outputs": [
    {
     "name": "stdout",
     "output_type": "stream",
     "text": [
      "Requirement already satisfied: paho-mqtt in c:\\users\\onur\\appdata\\local\\programs\\python\\python36\\lib\\site-packages (1.3.1)\n"
     ]
    }
   ],
   "source": [
    "# let's check if paho-mqtt has been installed\n",
    "!pip install paho-mqtt"
   ]
  },
  {
   "cell_type": "code",
   "execution_count": 2,
   "metadata": {},
   "outputs": [],
   "source": [
    "# import paho client\n",
    "import paho.mqtt.client as mqtt"
   ]
  },
  {
   "cell_type": "code",
   "execution_count": 3,
   "metadata": {},
   "outputs": [],
   "source": [
    "# Define callback functions for Subscriber\n",
    "def on_connect(client, userdata, flags, rc):\n",
    "    print(\"Connected with result code \" + str(rc))\n",
    "    \n",
    "def on_disconnect(client, userdata, rc):\n",
    "    print(\"Connected with result code \" + str(rc))\n",
    "    \n",
    "    \n",
    "def on_message(client, userdata, msg):\n",
    "    message = msg.payload.decode(\"utf-8\")\n",
    "\n",
    "    message_data = message.split('\\t')\n",
    "    timestamp_utc = message_data[0]\n",
    "    data = message_data[1]\n",
    "    \n",
    "    topic_data = msg.topic.split('/')\n",
    "    pollution_type = topic_data[len(topic_data) - 1]\n",
    "    \n",
    "    if pollution_type == 'no2_level':\n",
    "        print('City: {}, Street {}, NO2 Level {} ug/m3 | Timestamp: {}'.format(topic_data[1], topic_data[2], message_data[1], timestamp_utc))\n",
    "    elif pollution_type == 'so2_level':\n",
    "        print('City: {}, Street {}, SO2 Level {} ug/m3 | Timestamp: {}'.format(topic_data[1], topic_data[2], message_data[1], timestamp_utc))\n",
    "    else:\n",
    "        print('City: {}, Street {}, Sensor Type {}, Data {} | Timestamp: {} '.format(topic_data[1], topic_data[2], topic_data[len(topic_data) - 1],message_data[1] , timestamp_utc))"
   ]
  },
  {
   "cell_type": "code",
   "execution_count": 4,
   "metadata": {},
   "outputs": [],
   "source": [
    "mqtt_server_ip = \"127.0.0.1\"\n",
    "server_port = 1883\n",
    "tls_server_port = 8883\n",
    "\n",
    "# uniqie client id\n",
    "client_id = 'air_pollution_analyzer'"
   ]
  },
  {
   "cell_type": "code",
   "execution_count": null,
   "metadata": {},
   "outputs": [
    {
     "name": "stdout",
     "output_type": "stream",
     "text": [
      "Connected with result code 0\n",
      "City: city_01, Street street_01, Sensor Type celcius, Data 23.22003860342444 | Timestamp: 2018-08-05 16:16:45.103554 \n",
      "City: city_01, Street street_01, NO2 Level 8.853369352523995 ug/m3 | Timestamp: 2018-08-05 16:16:45.103554\n",
      "City: city_01, Street street_01, Sensor Type traffic_speed, Data 18.704987264387817 | Timestamp: 2018-08-05 16:16:45.103554 \n",
      "City: city_01, Street street_01, Sensor Type fahrenheit, Data 43.56886808597102 | Timestamp: 2018-08-05 16:16:45.103554 \n",
      "City: city_01, Street street_01, SO2 Level 9.525179967460652 ug/m3 | Timestamp: 2018-08-05 16:16:45.104564\n"
     ]
    }
   ],
   "source": [
    "system_name = \"hypo_city\"\n",
    "air_pollution = 'air_pollution'\n",
    "\n",
    "client = mqtt.Client(client_id)\n",
    "\n",
    "username = 'subscriber1'\n",
    "password = 'simple_password'\n",
    "\n",
    "# set username password\n",
    "client.username_pw_set(username, password=password)\n",
    "\n",
    "client.tls_set('ca.crt')\n",
    "\n",
    "client.on_connect = on_connect\n",
    "client.on_disconnect = on_disconnect\n",
    "client.on_message = on_message\n",
    "\n",
    "client.connect(mqtt_server_ip, tls_server_port, keepalive=60)\n",
    "\n",
    "# I will get, all cities and all cities streets \n",
    "subscribe_topic = '#' #system_name + '/+/+/+/+'\n",
    "\n",
    "client.subscribe(subscribe_topic, qos=0)\n",
    "\n",
    "# start loop forever to subscribe wanted topic\n",
    "client.loop_forever()"
   ]
  }
 ],
 "metadata": {
  "kernelspec": {
   "display_name": "Python 3",
   "language": "python",
   "name": "python3"
  },
  "language_info": {
   "codemirror_mode": {
    "name": "ipython",
    "version": 3
   },
   "file_extension": ".py",
   "mimetype": "text/x-python",
   "name": "python",
   "nbconvert_exporter": "python",
   "pygments_lexer": "ipython3",
   "version": "3.6.6"
  }
 },
 "nbformat": 4,
 "nbformat_minor": 2
}
