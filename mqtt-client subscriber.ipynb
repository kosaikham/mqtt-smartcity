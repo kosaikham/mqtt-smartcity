{
 "cells": [
  {
   "cell_type": "markdown",
   "metadata": {},
   "source": [
    "## MQTT Subscriber\n",
    "\n",
    "In this tutorial, I would like to tell how to implement a MQTT subscriber, which subscribes for a certain type of data from MQTT broker. \n",
    "\n",
    "I would like to create a hypothetical smart city, which clients publish below data:\n",
    "\n",
    "```\n",
    "- temperature\n",
    "    - celcius\n",
    "    - fahrenheit\n",
    "- air pollution\n",
    "    - CO level\n",
    "    - SO2 level\n",
    "- traffic speed\n",
    "    - km/h\n",
    "```\n",
    "\n",
    "Subscribers only work on determined data types, a single purpose clients to collect data and do what ever they want. Like, show on the map, analyze etc.\n",
    "\n",
    "Our topic structure is as shown:\n",
    "\n",
    "```\n",
    "<system_name>/<city_id>/<street_id>/<sensor_data>/<sub_data>\n",
    "```\n",
    "\n",
    "We want our subscriber to collect certain data for its own purpose. Since our topic structure is known by all systems, clients can be configured to parse data and collect certain information.\n",
    "\n",
    "Using the topic info, a subscriber can identify id of city, street and sensor data types. \n",
    "\n",
    "This information can also be embedded into payload, that's the choice of design. \n",
    "\n"
   ]
  },
  {
   "cell_type": "code",
   "execution_count": null,
   "metadata": {},
   "outputs": [],
   "source": [
    "# let's check if paho-mqtt has been installed\n",
    "!pip install paho-mqtt"
   ]
  },
  {
   "cell_type": "code",
   "execution_count": null,
   "metadata": {
    "collapsed": true
   },
   "outputs": [],
   "source": [
    "# import paho client\n",
    "import paho.mqtt.client as mqtt"
   ]
  },
  {
   "cell_type": "code",
   "execution_count": null,
   "metadata": {
    "collapsed": true
   },
   "outputs": [],
   "source": [
    "# Define callback functions for Subscriber\n",
    "def on_connect(client, userdata, flags, rc):\n",
    "    print(\"Connected with result code \" + str(rc))\n",
    "    \n",
    "def on_message(client, userdata, msg):\n",
    "    message = msg.payload.decode(\"utf-8\")\n",
    "\n",
    "    message_data = message.split('\\t')\n",
    "    timestamp_utc = message_data[0]\n",
    "    data = message_data[1]\n",
    "    \n",
    "    topic_data = msg.topic.split('/')\n",
    "    pollution_type = topic_data[len(topic_data) - 1]\n",
    "    \n",
    "    if pollution_type == 'no2_level':\n",
    "        print('City: {}, Street {}, NO2 Level {} ug/m3 | {}'.format(topic_data[1], topic_data[2], message_data[1], timestamp_utc))\n",
    "    else:\n",
    "        print('City: {}, Street {}, SO2 Level {} ug/m3 | {}'.format(topic_data[1], topic_data[2], message_data[1], timestamp_utc))"
   ]
  },
  {
   "cell_type": "code",
   "execution_count": null,
   "metadata": {
    "collapsed": true
   },
   "outputs": [],
   "source": [
    "mqtt_server_ip = \"172.17.0.2\"\n",
    "server_port = 1883\n",
    "\n",
    "# uniqie client id\n",
    "client_id = 'air_pollution_analyzer'"
   ]
  },
  {
   "cell_type": "code",
   "execution_count": null,
   "metadata": {},
   "outputs": [],
   "source": [
    "system_name = \"hypo_city\"\n",
    "air_pollution = 'air_pollution'\n",
    "\n",
    "client = mqtt.Client(client_id)\n",
    "\n",
    "client.on_connect = on_connect\n",
    "client.on_message = on_message\n",
    "\n",
    "client.connect(mqtt_server_ip, server_port, keepalive=60)\n",
    "\n",
    "# I will get, all cities and all cities streets \n",
    "subscribe_topic = system_name + '/+/+/air_pollution/+'\n",
    "\n",
    "client.subscribe(subscribe_topic, qos=0)"
   ]
  },
  {
   "cell_type": "code",
   "execution_count": null,
   "metadata": {},
   "outputs": [],
   "source": [
    "# start loop forever to subscribe wanted topic\n",
    "client.loop_forever()"
   ]
  }
 ],
 "metadata": {
  "kernelspec": {
   "display_name": "Python 3",
   "language": "python",
   "name": "python3"
  },
  "language_info": {
   "codemirror_mode": {
    "name": "ipython",
    "version": 3
   },
   "file_extension": ".py",
   "mimetype": "text/x-python",
   "name": "python",
   "nbconvert_exporter": "python",
   "pygments_lexer": "ipython3",
   "version": "3.6.2"
  }
 },
 "nbformat": 4,
 "nbformat_minor": 2
}
