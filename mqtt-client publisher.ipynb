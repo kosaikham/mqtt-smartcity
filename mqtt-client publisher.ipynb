{
 "cells": [
  {
   "cell_type": "markdown",
   "metadata": {},
   "source": [
    "## MQTT Publisher\n",
    "\n",
    "This is an example for our hypothetical small city publisher, which sends data:\n",
    "```\n",
    "- temperature\n",
    "    - celcius\n",
    "    - fahrenheit\n",
    "- air pollution\n",
    "    - CO level\n",
    "    - SO2 level\n",
    "- traffic speed\n",
    "    - km/h\n",
    "```\n",
    "Each of our clients have been set up at certain point for a street of a city, at this time it has sensors which measures the given list of data from environment. \n",
    "\n",
    "These clients will be our publishers to send this data.\n",
    "\n",
    "Our topic structure is as shown:\n",
    "\n",
    "```\n",
    "<system_name>/<city_id>/<street_id>/<sensor_data>/<sub_data>\n",
    "```\n",
    "\n",
    "Therefore this client will publish data with following topics:\n",
    "```\n",
    "system_name/smart_city/city_01/street_01/temperature/celcius\n",
    "system_name/smart_city/city_01/street_01/temperature/fahrenheit\n",
    "system_name/smart_city/city_01/street_01/air_pollution/no2_level\n",
    "system_name/smart_city/city_01/street_01/air_pollution/so2_level\n",
    "system_name/smart_city/city_01/street_01/traffic_speed/kmh\n",
    "```\n",
    "\n",
    "We will use Eclipse Paho (https://www.eclipse.org/paho/clients/python/) as our library to implement MQTT client's publish requirements."
   ]
  },
  {
   "cell_type": "code",
   "execution_count": null,
   "metadata": {},
   "outputs": [],
   "source": [
    "# let's check if paho-mqtt has been installed\n",
    "!pip install paho-mqtt"
   ]
  },
  {
   "cell_type": "code",
   "execution_count": 1,
   "metadata": {},
   "outputs": [],
   "source": [
    "# import paho client, first\n",
    "import paho.mqtt.client as mqtt\n",
    "import numpy as np\n",
    "import asyncio\n",
    "import datetime\n",
    "import ssl"
   ]
  },
  {
   "cell_type": "code",
   "execution_count": 2,
   "metadata": {},
   "outputs": [],
   "source": [
    "# Definitions for remote connection, below constant can also be a configuration file stored in your client which \n",
    "# you can update with OTA in anychange.\n",
    "\n",
    "# unique system name\n",
    "system_name = \"hypo_city\"\n",
    "\n",
    "# city id and street name\n",
    "city_name = \"city_01\"\n",
    "street_name = \"street_01\"\n",
    "\n",
    "# uniqie client id\n",
    "client_id = city_name + \"_\" + street_name\n",
    "\n",
    "# define the server IP and port to be used\n",
    "mqtt_server_ip = \"127.0.0.1\"\n",
    "server_port = 8883"
   ]
  },
  {
   "cell_type": "markdown",
   "metadata": {},
   "source": [
    "Callback methods are used to inform system about responds from server accordingly. In a publisher, we would recommend on_connect, on_disconnect and on_publish"
   ]
  },
  {
   "cell_type": "code",
   "execution_count": 3,
   "metadata": {},
   "outputs": [],
   "source": [
    "# The callback for when the client receives a CONNACK response from the server.\n",
    "def on_connect(client, userdata, flags, rc):\n",
    "    print(\"Connected with result code \" + str(rc))\n",
    "\n",
    "def on_disconnect(client, userdata, rc):\n",
    "    print(\"Disconnected with result code \" + str(rc))    \n",
    "    \n",
    "def on_publish(client, userdata, result):\n",
    "    print(\"Message Published {}\".format(result))"
   ]
  },
  {
   "cell_type": "code",
   "execution_count": 4,
   "metadata": {},
   "outputs": [
    {
     "data": {
      "text/plain": [
       "0"
      ]
     },
     "execution_count": 4,
     "metadata": {},
     "output_type": "execute_result"
    }
   ],
   "source": [
    "# Create Client Object and assign publisher callback methods \n",
    "client = mqtt.Client(client_id=client_id)\n",
    "\n",
    "# assign callback methods\n",
    "client.on_connect = on_connect\n",
    "client.on_publish = on_publish\n",
    "client.on_disconnect = on_disconnect\n",
    "\n",
    "client.tls_set(ca_certs='ca.crt', tls_version=ssl.PROTOCOL_TLSv1, cert_reqs=ssl.CERT_REQUIRED)\n",
    "\n",
    "username = 'street1'\n",
    "password = 'simple_password'\n",
    "\n",
    "# set username password\n",
    "client.username_pw_set(username, password=password)\n",
    "\n",
    "# Connect to MQTT Broker\n",
    "client.connect(mqtt_server_ip, server_port, keepalive=60)"
   ]
  },
  {
   "cell_type": "markdown",
   "metadata": {},
   "source": [
    "Now, we can proceed to implement client to read data from sensors and publish to broker itself. Since we are desigining a hypothetical city with some streets, we will generate pseuda data to replicate a street for installed sensors.\n",
    "\n",
    "we will be having an infinite loop to send received sensor data and send them. "
   ]
  },
  {
   "cell_type": "code",
   "execution_count": 5,
   "metadata": {},
   "outputs": [],
   "source": [
    "async def publish_celcius_temperature(mqtt_client  = mqtt.Client(), topic_prefix = '', qos = 0, retain = False, mean=21.5, std_dev=3.5):\n",
    "    while True:\n",
    "        celcius = np.random.normal(loc=mean, scale=std_dev)\n",
    "        topic = topic_prefix + \"/temperature/celcius\"\n",
    "        \n",
    "        utc_time = datetime.datetime.utcnow()\n",
    "        \n",
    "        #message structure \n",
    "        # timestampt \\t data\n",
    "        \n",
    "        message = '{}\\t{}'.format(utc_time, celcius)\n",
    "        \n",
    "        publish_info = client.publish(topic, payload=message, qos=qos, retain=retain)\n",
    "\n",
    "        if publish_info.is_published:\n",
    "            print(\"Topic:{}, Message:{}\".format(topic, message))\n",
    "        else:\n",
    "            print(\"Message Not Published\")\n",
    "\n",
    "        await asyncio.sleep(10)\n",
    "    \n",
    "async def publish_fahrenheit_temperature(mqtt_client  = mqtt.Client(), topic_prefix = '', qos = 0, retain = False, mean=60, std_dev=30):\n",
    "    while True:\n",
    "        fahrenheit = np.random.normal(loc=mean, scale=std_dev)\n",
    "        topic = topic_prefix + \"/temperature/fahrenheit\"\n",
    "        \n",
    "        utc_time = datetime.datetime.utcnow()\n",
    "        \n",
    "        #message structure \n",
    "        # timestampt \\t data\n",
    "        \n",
    "        message = '{}\\t{}'.format(utc_time, fahrenheit)\n",
    "        \n",
    "        publish_info = client.publish(topic, payload=message, qos=qos, retain=retain)\n",
    "\n",
    "        if publish_info.is_published:\n",
    "            print(\"Topic:{}, Message:{}\".format(topic, message))\n",
    "        else:\n",
    "            print(\"Message Not Published\")\n",
    "\n",
    "        await asyncio.sleep(10)\n",
    "\n",
    "\n",
    "async def publish_air_pollution_no2(mqtt_client  = mqtt.Client(), topic_prefix = '', qos = 0, retain = False, mean=5.3, std_dev=4.1):\n",
    "    #ug/m3\n",
    "    while True:\n",
    "        no2_level =np.random.normal(loc=mean, scale=std_dev)\n",
    "        topic = topic_prefix + \"/air_pollution/no2_level\"\n",
    "        \n",
    "        utc_time = datetime.datetime.utcnow()\n",
    "        \n",
    "        #message structure \n",
    "        # timestampt \\t data\n",
    "        \n",
    "        message = '{}\\t{}'.format(utc_time, no2_level)\n",
    "        \n",
    "        publish_info = client.publish(topic, payload=message, qos=qos, retain=retain)\n",
    "        \n",
    "\n",
    "        if publish_info.is_published:\n",
    "            print(\"Topic:{}, Message:{}\".format(topic, message))\n",
    "        else:\n",
    "            print(\"Message Not Published\")\n",
    "\n",
    "        await asyncio.sleep(10)\n",
    "\n",
    "async def publish_air_pollution_so2(mqtt_client = mqtt.Client(), topic_prefix = '', qos = 0, retain = False, mean=7.2, std_dev=2.5):\n",
    "    #ug/m3\n",
    "    while True:\n",
    "        so2_level = np.random.normal(loc=mean, scale=std_dev)\n",
    "        topic = topic_prefix + \"/air_pollution/so2_level\"\n",
    "        \n",
    "        utc_time = datetime.datetime.utcnow()\n",
    "        \n",
    "        #message structure \n",
    "        # timestampt \\t data\n",
    "        \n",
    "        message = '{}\\t{}'.format(utc_time, so2_level)\n",
    "        \n",
    "        publish_info = client.publish(topic, payload=message, qos=qos, retain=retain)\n",
    "\n",
    "        if publish_info.is_published:\n",
    "            print(\"Topic:{}, Message:{}\".format(topic, message))\n",
    "        else:\n",
    "            print(\"Message Not Published\")\n",
    "\n",
    "        await asyncio.sleep(10)\n",
    "\n",
    "async def publish_traffic_speed(mqtt_client = mqtt.Client(), topic_prefix = '', qos = 0, retain = False, mean=10, std_dev=10):\n",
    "    #km/h\n",
    "    while True:\n",
    "        traffic_speed = np.random.normal(loc=mean, scale=std_dev)\n",
    "        topic = topic_prefix + \"/traffic_speed\"\n",
    "        \n",
    "        utc_time = datetime.datetime.utcnow()\n",
    "        \n",
    "        #message structure \n",
    "        # timestampt \\t data\n",
    "        \n",
    "        message = '{}\\t{}'.format(utc_time, traffic_speed)\n",
    "        \n",
    "        publish_info = client.publish(topic, payload=message, qos=qos, retain=retain)\n",
    "\n",
    "        if publish_info.is_published:\n",
    "            print(\"Topic:{}, Message:{}\".format(topic, message))\n",
    "        else:\n",
    "            print(\"Message Not Published\")\n",
    "\n",
    "        await asyncio.sleep(10)"
   ]
  },
  {
   "cell_type": "code",
   "execution_count": 6,
   "metadata": {},
   "outputs": [
    {
     "name": "stdout",
     "output_type": "stream",
     "text": [
      "Message Published 1\n",
      "Topic:hypo_city/city_01/street_01/temperature/celcius, Message:2018-08-05 16:14:35.083874\t26.646256929762124\n",
      "Message Published 2\n",
      "Topic:hypo_city/city_01/street_01/temperature/fahrenheit, Message:2018-08-05 16:14:35.083874\t73.96154328042306\n",
      "Message Published 3\n",
      "Topic:hypo_city/city_01/street_01/air_pollution/no2_level, Message:2018-08-05 16:14:35.083874\t2.0339192241085446\n",
      "Message Published 4\n",
      "Topic:hypo_city/city_01/street_01/air_pollution/so2_level, Message:2018-08-05 16:14:35.084873\t8.671623234113893\n",
      "Message Published 5\n",
      "Topic:hypo_city/city_01/street_01/traffic_speed, Message:2018-08-05 16:14:35.084873\t24.88326575867103\n"
     ]
    }
   ],
   "source": [
    "# A prefix for topics for this client\n",
    "topic_prefix = system_name + \"/\" + city_name + \"/\" + street_name\n",
    "\n",
    "# start sensor readings\n",
    "loop = asyncio.get_event_loop()\n",
    "\n",
    "loop.create_task(publish_celcius_temperature(mqtt_client=client, topic_prefix=topic_prefix))\n",
    "loop.create_task(publish_fahrenheit_temperature(mqtt_client=client, topic_prefix=topic_prefix))\n",
    "loop.create_task(publish_air_pollution_no2(mqtt_client=client, topic_prefix=topic_prefix))\n",
    "loop.create_task(publish_air_pollution_so2(mqtt_client=client, topic_prefix=topic_prefix))\n",
    "loop.create_task(publish_traffic_speed(mqtt_client=client, topic_prefix=topic_prefix))\n",
    "\n",
    "# Start All tasks forever\n",
    "if not loop.is_running:\n",
    "    loop.run_forever()"
   ]
  },
  {
   "cell_type": "code",
   "execution_count": null,
   "metadata": {},
   "outputs": [],
   "source": []
  }
 ],
 "metadata": {
  "kernelspec": {
   "display_name": "Python 3",
   "language": "python",
   "name": "python3"
  },
  "language_info": {
   "codemirror_mode": {
    "name": "ipython",
    "version": 3
   },
   "file_extension": ".py",
   "mimetype": "text/x-python",
   "name": "python",
   "nbconvert_exporter": "python",
   "pygments_lexer": "ipython3",
   "version": "3.6.6"
  }
 },
 "nbformat": 4,
 "nbformat_minor": 2
}
